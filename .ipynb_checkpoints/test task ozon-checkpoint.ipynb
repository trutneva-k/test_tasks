{
 "cells": [
  {
   "cell_type": "markdown",
   "id": "3d8bac4c",
   "metadata": {},
   "source": [
    "#### Тестовое задание по Питону для аналитика данных от якобы OZON"
   ]
  },
  {
   "cell_type": "markdown",
   "id": "4a6c4020",
   "metadata": {},
   "source": [
    "Задание 1\n",
    "\n",
    "Для выполнения этого задания требуется сгенерировать DataFrame с синтетическими данными. DataFrame должен состоять из 10000 строк и 5 колонок. Каждую из колонок мы предлагаем тебе создать и заполнить следующим образом:\n",
    "\n",
    "1-я колонка — user_id — идентификатор пользователя. Длина user_id должна равняться 15-ти символам. Идентификатор состоит из случайной комбинации следующих символов: \"1234567890abcdefghijklmnopqrstuvwxyz\". Для каждой строки в DataFrame значение user_id формируется случайным образом.\n",
    "\n",
    "2-я колонка — order_number — номер заказа. Столбец необходимо заполнить случайными значениями в диапазоне от 1 до 10.\n",
    "\n",
    "3-я колонка — click2delivery — время, прошедшее с момента оформления заказа до получения клиентом. Столбец необходимо заполнить случайными значениями из нормального распределения со средним 1440 и стандартным отклонением 200.\n",
    "\n",
    "4-я колонка — order_item_sum — общая стоимость заказа. Значения для этого столбца необходимо взять из экспоненциального распределения с параметрами a = 1, смещение на +1.\n",
    "\n",
    "5-я колонка — retention — день жизни покупателя, в который он совершил заказ. Необходимо сгенерировать значения 1, 2, 3, 4, 5 с вероятностями 0.35, 0.25, 0.2, 0.15 и 0.05 соответственно.\n",
    "\n",
    "В случае, если в колонке user_id встречаются дублирующиеся значения, оставить только первое из них.\n"
   ]
  },
  {
   "cell_type": "code",
   "execution_count": 1,
   "id": "87a3e0fe",
   "metadata": {},
   "outputs": [],
   "source": [
    "# импорт библиотек\n",
    "import pandas as pd\n",
    "import random\n",
    "import numpy as np\n",
    "import matplotlib.pyplot as plt\n",
    "import seaborn as sns"
   ]
  },
  {
   "cell_type": "code",
   "execution_count": 2,
   "id": "f5107634",
   "metadata": {},
   "outputs": [],
   "source": [
    "# функция для генерации айди пользователей\n",
    "def generate_user_id(n):\n",
    "    s=\" \"\n",
    "    for i in range(n):\n",
    "        s=s+random.choice(\"1234567890abcdefghijklmnopqrstuvwxyz\")\n",
    "    return s\n"
   ]
  },
  {
   "cell_type": "code",
   "execution_count": 3,
   "id": "53e1d97a",
   "metadata": {},
   "outputs": [],
   "source": [
    "# пример работы функции\n",
    "user_id = generate_user_id(15)"
   ]
  },
  {
   "cell_type": "code",
   "execution_count": 4,
   "id": "ced10caa",
   "metadata": {},
   "outputs": [
    {
     "data": {
      "text/plain": [
       "' kxjnv60wd633o0i'"
      ]
     },
     "execution_count": 4,
     "metadata": {},
     "output_type": "execute_result"
    }
   ],
   "source": [
    "# вывод\n",
    "user_id"
   ]
  },
  {
   "cell_type": "code",
   "execution_count": 5,
   "id": "490673d1",
   "metadata": {},
   "outputs": [],
   "source": [
    "# второй вариант функции для генерации айди клиентов\n",
    "def generate_user_id_2(length=15):\n",
    "    characters = \"1234567890abcdefghijklmnopqrstuvwxyz\"\n",
    "    return ''.join(random.choice(characters) for _ in range(length))"
   ]
  },
  {
   "cell_type": "code",
   "execution_count": 6,
   "id": "56f780a2",
   "metadata": {},
   "outputs": [],
   "source": [
    "# пример работы функции\n",
    "user_id_2 = generate_user_id_2()"
   ]
  },
  {
   "cell_type": "code",
   "execution_count": 7,
   "id": "fa38be7d",
   "metadata": {},
   "outputs": [
    {
     "data": {
      "text/plain": [
       "'eul96n5es3svrz8'"
      ]
     },
     "execution_count": 7,
     "metadata": {},
     "output_type": "execute_result"
    }
   ],
   "source": [
    "# вывод\n",
    "user_id_2"
   ]
  },
  {
   "cell_type": "code",
   "execution_count": 8,
   "id": "9bf13762",
   "metadata": {},
   "outputs": [],
   "source": [
    "# создание словаря содержащего все нужные значения\n",
    "\n",
    "my_data = {'user_id': [generate_user_id(15) for i in range(10000)],\n",
    "        'order_number': [random.randint(1,10) for i in range(10000)],\n",
    "        'click2delivery': np.random.normal(1440,200, 10000),\n",
    "           'order_item_sum': np.random.exponential(1, 10000)+1, \n",
    "           'retention': np.random.choice([1,2,3,4,5], size = 10000, p=[0.35, 0.25, 0.2, 0.15, 0.05])\n",
    "    \n",
    "}\n",
    "    "
   ]
  },
  {
   "cell_type": "code",
   "execution_count": 9,
   "id": "064c0dee",
   "metadata": {},
   "outputs": [],
   "source": [
    "# преобразование в датафейм\n",
    "df = pd.DataFrame(data = my_data)"
   ]
  },
  {
   "cell_type": "code",
   "execution_count": 10,
   "id": "652da795",
   "metadata": {},
   "outputs": [
    {
     "data": {
      "text/html": [
       "<div>\n",
       "<style scoped>\n",
       "    .dataframe tbody tr th:only-of-type {\n",
       "        vertical-align: middle;\n",
       "    }\n",
       "\n",
       "    .dataframe tbody tr th {\n",
       "        vertical-align: top;\n",
       "    }\n",
       "\n",
       "    .dataframe thead th {\n",
       "        text-align: right;\n",
       "    }\n",
       "</style>\n",
       "<table border=\"1\" class=\"dataframe\">\n",
       "  <thead>\n",
       "    <tr style=\"text-align: right;\">\n",
       "      <th></th>\n",
       "      <th>user_id</th>\n",
       "      <th>order_number</th>\n",
       "      <th>click2delivery</th>\n",
       "      <th>order_item_sum</th>\n",
       "      <th>retention</th>\n",
       "    </tr>\n",
       "  </thead>\n",
       "  <tbody>\n",
       "    <tr>\n",
       "      <th>0</th>\n",
       "      <td>ztqwe9m3hkd9vd6</td>\n",
       "      <td>8</td>\n",
       "      <td>1770.942567</td>\n",
       "      <td>1.546577</td>\n",
       "      <td>1</td>\n",
       "    </tr>\n",
       "    <tr>\n",
       "      <th>1</th>\n",
       "      <td>kbxlyttkwaurirt</td>\n",
       "      <td>6</td>\n",
       "      <td>1408.329852</td>\n",
       "      <td>1.691839</td>\n",
       "      <td>1</td>\n",
       "    </tr>\n",
       "    <tr>\n",
       "      <th>2</th>\n",
       "      <td>fzjqopiojnrglh9</td>\n",
       "      <td>10</td>\n",
       "      <td>1363.837193</td>\n",
       "      <td>3.683808</td>\n",
       "      <td>3</td>\n",
       "    </tr>\n",
       "    <tr>\n",
       "      <th>3</th>\n",
       "      <td>lq7oeig9z3du45f</td>\n",
       "      <td>9</td>\n",
       "      <td>1386.917781</td>\n",
       "      <td>1.392896</td>\n",
       "      <td>1</td>\n",
       "    </tr>\n",
       "    <tr>\n",
       "      <th>4</th>\n",
       "      <td>onhhi2hp21jhiv6</td>\n",
       "      <td>10</td>\n",
       "      <td>1542.571772</td>\n",
       "      <td>2.625719</td>\n",
       "      <td>3</td>\n",
       "    </tr>\n",
       "  </tbody>\n",
       "</table>\n",
       "</div>"
      ],
      "text/plain": [
       "            user_id  order_number  click2delivery  order_item_sum  retention\n",
       "0   ztqwe9m3hkd9vd6             8     1770.942567        1.546577          1\n",
       "1   kbxlyttkwaurirt             6     1408.329852        1.691839          1\n",
       "2   fzjqopiojnrglh9            10     1363.837193        3.683808          3\n",
       "3   lq7oeig9z3du45f             9     1386.917781        1.392896          1\n",
       "4   onhhi2hp21jhiv6            10     1542.571772        2.625719          3"
      ]
     },
     "execution_count": 10,
     "metadata": {},
     "output_type": "execute_result"
    }
   ],
   "source": [
    "df.head()"
   ]
  },
  {
   "cell_type": "code",
   "execution_count": 11,
   "id": "edbddba6",
   "metadata": {
    "scrolled": true
   },
   "outputs": [
    {
     "data": {
      "image/png": "[encoded data removed]",
      "text/plain": [
       "<Figure size 600x800 with 4 Axes>"
      ]
     },
     "metadata": {},
     "output_type": "display_data"
    }
   ],
   "source": [
    "# проверка правильности созданных распределений в столбцах\n",
    "df.hist(figsize=(6, 8))\n",
    "plt.show()"
   ]
  },
  {
   "cell_type": "code",
   "execution_count": 12,
   "id": "058e830e",
   "metadata": {},
   "outputs": [
    {
     "name": "stdout",
     "output_type": "stream",
     "text": [
      "Размерность данных до:  (10000, 5)\n"
     ]
    }
   ],
   "source": [
    "# проверка размера до удаления дубликатов\n",
    "print(\"Размерность данных до: \", df.shape)"
   ]
  },
  {
   "cell_type": "code",
   "execution_count": 13,
   "id": "a72cac9d",
   "metadata": {},
   "outputs": [],
   "source": [
    "# создаем новый датафрейм из df с удаленными повторами по стоблцу 'user_id'\n",
    "df_unique = df.drop_duplicates(subset = 'user_id', keep = 'first')"
   ]
  },
  {
   "cell_type": "code",
   "execution_count": 14,
   "id": "78457406",
   "metadata": {},
   "outputs": [
    {
     "name": "stdout",
     "output_type": "stream",
     "text": [
      "Размернось данных после (10000, 5)\n"
     ]
    }
   ],
   "source": [
    "# проверяем размер после удаления\n",
    "print(\"Размернось данных после\", df_unique.shape)"
   ]
  },
  {
   "cell_type": "markdown",
   "id": "c27f3525",
   "metadata": {},
   "source": [
    "Дубликатов небыло, размер не изменился"
   ]
  },
  {
   "cell_type": "markdown",
   "id": "a521d5f3",
   "metadata": {},
   "source": [
    "Задание 2\n",
    "\n",
    "Для всех строк исходного датасэта, сгрупированных по номеру заказа, посчитать среднее значение времени доставки по группе. Результат необходимо добавиь в новый столбец датафрейма."
   ]
  },
  {
   "cell_type": "code",
   "execution_count": 15,
   "id": "9566093a",
   "metadata": {},
   "outputs": [],
   "source": [
    "# создаем таблицу с группировкой по номеру заказа\n",
    "grouped_table = df.groupby('order_number')['click2delivery'].mean().reset_index()"
   ]
  },
  {
   "cell_type": "code",
   "execution_count": 16,
   "id": "f35e00e3",
   "metadata": {},
   "outputs": [
    {
     "data": {
      "text/html": [
       "<div>\n",
       "<style scoped>\n",
       "    .dataframe tbody tr th:only-of-type {\n",
       "        vertical-align: middle;\n",
       "    }\n",
       "\n",
       "    .dataframe tbody tr th {\n",
       "        vertical-align: top;\n",
       "    }\n",
       "\n",
       "    .dataframe thead th {\n",
       "        text-align: right;\n",
       "    }\n",
       "</style>\n",
       "<table border=\"1\" class=\"dataframe\">\n",
       "  <thead>\n",
       "    <tr style=\"text-align: right;\">\n",
       "      <th></th>\n",
       "      <th>order_number</th>\n",
       "      <th>click2delivery</th>\n",
       "    </tr>\n",
       "  </thead>\n",
       "  <tbody>\n",
       "    <tr>\n",
       "      <th>0</th>\n",
       "      <td>1</td>\n",
       "      <td>1437.435131</td>\n",
       "    </tr>\n",
       "    <tr>\n",
       "      <th>1</th>\n",
       "      <td>2</td>\n",
       "      <td>1441.468604</td>\n",
       "    </tr>\n",
       "    <tr>\n",
       "      <th>2</th>\n",
       "      <td>3</td>\n",
       "      <td>1440.478577</td>\n",
       "    </tr>\n",
       "    <tr>\n",
       "      <th>3</th>\n",
       "      <td>4</td>\n",
       "      <td>1437.928385</td>\n",
       "    </tr>\n",
       "    <tr>\n",
       "      <th>4</th>\n",
       "      <td>5</td>\n",
       "      <td>1439.544284</td>\n",
       "    </tr>\n",
       "    <tr>\n",
       "      <th>5</th>\n",
       "      <td>6</td>\n",
       "      <td>1437.561474</td>\n",
       "    </tr>\n",
       "    <tr>\n",
       "      <th>6</th>\n",
       "      <td>7</td>\n",
       "      <td>1446.275508</td>\n",
       "    </tr>\n",
       "    <tr>\n",
       "      <th>7</th>\n",
       "      <td>8</td>\n",
       "      <td>1439.539851</td>\n",
       "    </tr>\n",
       "    <tr>\n",
       "      <th>8</th>\n",
       "      <td>9</td>\n",
       "      <td>1436.446528</td>\n",
       "    </tr>\n",
       "    <tr>\n",
       "      <th>9</th>\n",
       "      <td>10</td>\n",
       "      <td>1435.907529</td>\n",
       "    </tr>\n",
       "  </tbody>\n",
       "</table>\n",
       "</div>"
      ],
      "text/plain": [
       "   order_number  click2delivery\n",
       "0             1     1437.435131\n",
       "1             2     1441.468604\n",
       "2             3     1440.478577\n",
       "3             4     1437.928385\n",
       "4             5     1439.544284\n",
       "5             6     1437.561474\n",
       "6             7     1446.275508\n",
       "7             8     1439.539851\n",
       "8             9     1436.446528\n",
       "9            10     1435.907529"
      ]
     },
     "execution_count": 16,
     "metadata": {},
     "output_type": "execute_result"
    }
   ],
   "source": [
    "# смотрим\n",
    "grouped_table"
   ]
  },
  {
   "cell_type": "code",
   "execution_count": 17,
   "id": "d2c725b4",
   "metadata": {},
   "outputs": [],
   "source": [
    "# переименовываем столбец\n",
    "grouped_table = grouped_table.rename(columns = {'click2delivery': 'click2delivery_mean'})"
   ]
  },
  {
   "cell_type": "code",
   "execution_count": 18,
   "id": "bbf753ac",
   "metadata": {},
   "outputs": [
    {
     "data": {
      "text/html": [
       "<div>\n",
       "<style scoped>\n",
       "    .dataframe tbody tr th:only-of-type {\n",
       "        vertical-align: middle;\n",
       "    }\n",
       "\n",
       "    .dataframe tbody tr th {\n",
       "        vertical-align: top;\n",
       "    }\n",
       "\n",
       "    .dataframe thead th {\n",
       "        text-align: right;\n",
       "    }\n",
       "</style>\n",
       "<table border=\"1\" class=\"dataframe\">\n",
       "  <thead>\n",
       "    <tr style=\"text-align: right;\">\n",
       "      <th></th>\n",
       "      <th>order_number</th>\n",
       "      <th>click2delivery_mean</th>\n",
       "    </tr>\n",
       "  </thead>\n",
       "  <tbody>\n",
       "    <tr>\n",
       "      <th>0</th>\n",
       "      <td>1</td>\n",
       "      <td>1437.435131</td>\n",
       "    </tr>\n",
       "    <tr>\n",
       "      <th>1</th>\n",
       "      <td>2</td>\n",
       "      <td>1441.468604</td>\n",
       "    </tr>\n",
       "    <tr>\n",
       "      <th>2</th>\n",
       "      <td>3</td>\n",
       "      <td>1440.478577</td>\n",
       "    </tr>\n",
       "    <tr>\n",
       "      <th>3</th>\n",
       "      <td>4</td>\n",
       "      <td>1437.928385</td>\n",
       "    </tr>\n",
       "    <tr>\n",
       "      <th>4</th>\n",
       "      <td>5</td>\n",
       "      <td>1439.544284</td>\n",
       "    </tr>\n",
       "    <tr>\n",
       "      <th>5</th>\n",
       "      <td>6</td>\n",
       "      <td>1437.561474</td>\n",
       "    </tr>\n",
       "    <tr>\n",
       "      <th>6</th>\n",
       "      <td>7</td>\n",
       "      <td>1446.275508</td>\n",
       "    </tr>\n",
       "    <tr>\n",
       "      <th>7</th>\n",
       "      <td>8</td>\n",
       "      <td>1439.539851</td>\n",
       "    </tr>\n",
       "    <tr>\n",
       "      <th>8</th>\n",
       "      <td>9</td>\n",
       "      <td>1436.446528</td>\n",
       "    </tr>\n",
       "    <tr>\n",
       "      <th>9</th>\n",
       "      <td>10</td>\n",
       "      <td>1435.907529</td>\n",
       "    </tr>\n",
       "  </tbody>\n",
       "</table>\n",
       "</div>"
      ],
      "text/plain": [
       "   order_number  click2delivery_mean\n",
       "0             1          1437.435131\n",
       "1             2          1441.468604\n",
       "2             3          1440.478577\n",
       "3             4          1437.928385\n",
       "4             5          1439.544284\n",
       "5             6          1437.561474\n",
       "6             7          1446.275508\n",
       "7             8          1439.539851\n",
       "8             9          1436.446528\n",
       "9            10          1435.907529"
      ]
     },
     "execution_count": 18,
     "metadata": {},
     "output_type": "execute_result"
    }
   ],
   "source": [
    "# проверяем\n",
    "grouped_table"
   ]
  },
  {
   "cell_type": "code",
   "execution_count": 19,
   "id": "650d00e4",
   "metadata": {},
   "outputs": [],
   "source": [
    "# создаем новую таблицу из объединенных двух\n",
    "merged_table = pd.merge(df, grouped_table, on = 'order_number', how = 'left' )"
   ]
  },
  {
   "cell_type": "code",
   "execution_count": 20,
   "id": "aa424c6c",
   "metadata": {},
   "outputs": [
    {
     "data": {
      "text/html": [
       "<div>\n",
       "<style scoped>\n",
       "    .dataframe tbody tr th:only-of-type {\n",
       "        vertical-align: middle;\n",
       "    }\n",
       "\n",
       "    .dataframe tbody tr th {\n",
       "        vertical-align: top;\n",
       "    }\n",
       "\n",
       "    .dataframe thead th {\n",
       "        text-align: right;\n",
       "    }\n",
       "</style>\n",
       "<table border=\"1\" class=\"dataframe\">\n",
       "  <thead>\n",
       "    <tr style=\"text-align: right;\">\n",
       "      <th></th>\n",
       "      <th>user_id</th>\n",
       "      <th>order_number</th>\n",
       "      <th>click2delivery</th>\n",
       "      <th>order_item_sum</th>\n",
       "      <th>retention</th>\n",
       "      <th>click2delivery_mean</th>\n",
       "    </tr>\n",
       "  </thead>\n",
       "  <tbody>\n",
       "    <tr>\n",
       "      <th>0</th>\n",
       "      <td>ztqwe9m3hkd9vd6</td>\n",
       "      <td>8</td>\n",
       "      <td>1770.942567</td>\n",
       "      <td>1.546577</td>\n",
       "      <td>1</td>\n",
       "      <td>1439.539851</td>\n",
       "    </tr>\n",
       "    <tr>\n",
       "      <th>1</th>\n",
       "      <td>kbxlyttkwaurirt</td>\n",
       "      <td>6</td>\n",
       "      <td>1408.329852</td>\n",
       "      <td>1.691839</td>\n",
       "      <td>1</td>\n",
       "      <td>1437.561474</td>\n",
       "    </tr>\n",
       "    <tr>\n",
       "      <th>2</th>\n",
       "      <td>fzjqopiojnrglh9</td>\n",
       "      <td>10</td>\n",
       "      <td>1363.837193</td>\n",
       "      <td>3.683808</td>\n",
       "      <td>3</td>\n",
       "      <td>1435.907529</td>\n",
       "    </tr>\n",
       "    <tr>\n",
       "      <th>3</th>\n",
       "      <td>lq7oeig9z3du45f</td>\n",
       "      <td>9</td>\n",
       "      <td>1386.917781</td>\n",
       "      <td>1.392896</td>\n",
       "      <td>1</td>\n",
       "      <td>1436.446528</td>\n",
       "    </tr>\n",
       "    <tr>\n",
       "      <th>4</th>\n",
       "      <td>onhhi2hp21jhiv6</td>\n",
       "      <td>10</td>\n",
       "      <td>1542.571772</td>\n",
       "      <td>2.625719</td>\n",
       "      <td>3</td>\n",
       "      <td>1435.907529</td>\n",
       "    </tr>\n",
       "  </tbody>\n",
       "</table>\n",
       "</div>"
      ],
      "text/plain": [
       "            user_id  order_number  click2delivery  order_item_sum  retention  \\\n",
       "0   ztqwe9m3hkd9vd6             8     1770.942567        1.546577          1   \n",
       "1   kbxlyttkwaurirt             6     1408.329852        1.691839          1   \n",
       "2   fzjqopiojnrglh9            10     1363.837193        3.683808          3   \n",
       "3   lq7oeig9z3du45f             9     1386.917781        1.392896          1   \n",
       "4   onhhi2hp21jhiv6            10     1542.571772        2.625719          3   \n",
       "\n",
       "   click2delivery_mean  \n",
       "0          1439.539851  \n",
       "1          1437.561474  \n",
       "2          1435.907529  \n",
       "3          1436.446528  \n",
       "4          1435.907529  "
      ]
     },
     "execution_count": 20,
     "metadata": {},
     "output_type": "execute_result"
    }
   ],
   "source": [
    "# смотрим\n",
    "merged_table.head()"
   ]
  },
  {
   "cell_type": "markdown",
   "id": "60a99e1e",
   "metadata": {},
   "source": [
    "Задание 3\n",
    "\n",
    "Отдельной колонкой добавить значения последовательности, начинающиеся с 0 и 1, где следующий элемент является суммой двух предыдущих умноженных на 0.5"
   ]
  },
  {
   "cell_type": "code",
   "execution_count": 21,
   "id": "aa246fce",
   "metadata": {},
   "outputs": [],
   "source": [
    "# напишем функцию которая принимает на вход количество итераций и производит вычиления\n",
    "# записывает результат в лист\n",
    "def seq_gen (n):\n",
    "    seq = [0,1]\n",
    "    for i in range(2, n):\n",
    "        next = (seq[i-1]+seq[i-2])*0.5\n",
    "        seq.append(next)\n",
    "    return seq\n",
    "        "
   ]
  },
  {
   "cell_type": "code",
   "execution_count": 22,
   "id": "968e8574",
   "metadata": {},
   "outputs": [],
   "source": [
    "# создаем с помощью функции лист длинной в наш датасэт\n",
    "my_seq = seq_gen(len(merged_table))"
   ]
  },
  {
   "cell_type": "code",
   "execution_count": 23,
   "id": "e8d738d8",
   "metadata": {},
   "outputs": [
    {
     "data": {
      "text/plain": [
       "[0, 1, 0.5, 0.75, 0.625]"
      ]
     },
     "execution_count": 23,
     "metadata": {},
     "output_type": "execute_result"
    }
   ],
   "source": [
    "# смотрим\n",
    "my_seq[:5]"
   ]
  },
  {
   "cell_type": "code",
   "execution_count": 24,
   "id": "228f37fb",
   "metadata": {},
   "outputs": [],
   "source": [
    "# создаем столбец и пишем в него созданный лист\n",
    "merged_table['seq_col'] = [round(i, 4) for i in my_seq]"
   ]
  },
  {
   "cell_type": "code",
   "execution_count": 25,
   "id": "f62828a8",
   "metadata": {},
   "outputs": [
    {
     "data": {
      "text/html": [
       "<div>\n",
       "<style scoped>\n",
       "    .dataframe tbody tr th:only-of-type {\n",
       "        vertical-align: middle;\n",
       "    }\n",
       "\n",
       "    .dataframe tbody tr th {\n",
       "        vertical-align: top;\n",
       "    }\n",
       "\n",
       "    .dataframe thead th {\n",
       "        text-align: right;\n",
       "    }\n",
       "</style>\n",
       "<table border=\"1\" class=\"dataframe\">\n",
       "  <thead>\n",
       "    <tr style=\"text-align: right;\">\n",
       "      <th></th>\n",
       "      <th>user_id</th>\n",
       "      <th>order_number</th>\n",
       "      <th>click2delivery</th>\n",
       "      <th>order_item_sum</th>\n",
       "      <th>retention</th>\n",
       "      <th>click2delivery_mean</th>\n",
       "      <th>seq_col</th>\n",
       "    </tr>\n",
       "  </thead>\n",
       "  <tbody>\n",
       "    <tr>\n",
       "      <th>0</th>\n",
       "      <td>ztqwe9m3hkd9vd6</td>\n",
       "      <td>8</td>\n",
       "      <td>1770.942567</td>\n",
       "      <td>1.546577</td>\n",
       "      <td>1</td>\n",
       "      <td>1439.539851</td>\n",
       "      <td>0.0000</td>\n",
       "    </tr>\n",
       "    <tr>\n",
       "      <th>1</th>\n",
       "      <td>kbxlyttkwaurirt</td>\n",
       "      <td>6</td>\n",
       "      <td>1408.329852</td>\n",
       "      <td>1.691839</td>\n",
       "      <td>1</td>\n",
       "      <td>1437.561474</td>\n",
       "      <td>1.0000</td>\n",
       "    </tr>\n",
       "    <tr>\n",
       "      <th>2</th>\n",
       "      <td>fzjqopiojnrglh9</td>\n",
       "      <td>10</td>\n",
       "      <td>1363.837193</td>\n",
       "      <td>3.683808</td>\n",
       "      <td>3</td>\n",
       "      <td>1435.907529</td>\n",
       "      <td>0.5000</td>\n",
       "    </tr>\n",
       "    <tr>\n",
       "      <th>3</th>\n",
       "      <td>lq7oeig9z3du45f</td>\n",
       "      <td>9</td>\n",
       "      <td>1386.917781</td>\n",
       "      <td>1.392896</td>\n",
       "      <td>1</td>\n",
       "      <td>1436.446528</td>\n",
       "      <td>0.7500</td>\n",
       "    </tr>\n",
       "    <tr>\n",
       "      <th>4</th>\n",
       "      <td>onhhi2hp21jhiv6</td>\n",
       "      <td>10</td>\n",
       "      <td>1542.571772</td>\n",
       "      <td>2.625719</td>\n",
       "      <td>3</td>\n",
       "      <td>1435.907529</td>\n",
       "      <td>0.6250</td>\n",
       "    </tr>\n",
       "    <tr>\n",
       "      <th>5</th>\n",
       "      <td>upw0aappz4qfe3z</td>\n",
       "      <td>4</td>\n",
       "      <td>1674.681150</td>\n",
       "      <td>2.098172</td>\n",
       "      <td>1</td>\n",
       "      <td>1437.928385</td>\n",
       "      <td>0.6875</td>\n",
       "    </tr>\n",
       "    <tr>\n",
       "      <th>6</th>\n",
       "      <td>et0owpzm1f0btvl</td>\n",
       "      <td>7</td>\n",
       "      <td>919.537930</td>\n",
       "      <td>1.353398</td>\n",
       "      <td>1</td>\n",
       "      <td>1446.275508</td>\n",
       "      <td>0.6562</td>\n",
       "    </tr>\n",
       "    <tr>\n",
       "      <th>7</th>\n",
       "      <td>m47qqiuntwhyy96</td>\n",
       "      <td>5</td>\n",
       "      <td>1392.277822</td>\n",
       "      <td>1.020311</td>\n",
       "      <td>2</td>\n",
       "      <td>1439.544284</td>\n",
       "      <td>0.6719</td>\n",
       "    </tr>\n",
       "    <tr>\n",
       "      <th>8</th>\n",
       "      <td>mzealhu1mvtvjx2</td>\n",
       "      <td>6</td>\n",
       "      <td>1256.660431</td>\n",
       "      <td>4.520109</td>\n",
       "      <td>3</td>\n",
       "      <td>1437.561474</td>\n",
       "      <td>0.6641</td>\n",
       "    </tr>\n",
       "    <tr>\n",
       "      <th>9</th>\n",
       "      <td>lvskqof9qj855n9</td>\n",
       "      <td>1</td>\n",
       "      <td>1102.750278</td>\n",
       "      <td>1.132905</td>\n",
       "      <td>1</td>\n",
       "      <td>1437.435131</td>\n",
       "      <td>0.6680</td>\n",
       "    </tr>\n",
       "  </tbody>\n",
       "</table>\n",
       "</div>"
      ],
      "text/plain": [
       "            user_id  order_number  click2delivery  order_item_sum  retention  \\\n",
       "0   ztqwe9m3hkd9vd6             8     1770.942567        1.546577          1   \n",
       "1   kbxlyttkwaurirt             6     1408.329852        1.691839          1   \n",
       "2   fzjqopiojnrglh9            10     1363.837193        3.683808          3   \n",
       "3   lq7oeig9z3du45f             9     1386.917781        1.392896          1   \n",
       "4   onhhi2hp21jhiv6            10     1542.571772        2.625719          3   \n",
       "5   upw0aappz4qfe3z             4     1674.681150        2.098172          1   \n",
       "6   et0owpzm1f0btvl             7      919.537930        1.353398          1   \n",
       "7   m47qqiuntwhyy96             5     1392.277822        1.020311          2   \n",
       "8   mzealhu1mvtvjx2             6     1256.660431        4.520109          3   \n",
       "9   lvskqof9qj855n9             1     1102.750278        1.132905          1   \n",
       "\n",
       "   click2delivery_mean  seq_col  \n",
       "0          1439.539851   0.0000  \n",
       "1          1437.561474   1.0000  \n",
       "2          1435.907529   0.5000  \n",
       "3          1436.446528   0.7500  \n",
       "4          1435.907529   0.6250  \n",
       "5          1437.928385   0.6875  \n",
       "6          1446.275508   0.6562  \n",
       "7          1439.544284   0.6719  \n",
       "8          1437.561474   0.6641  \n",
       "9          1437.435131   0.6680  "
      ]
     },
     "execution_count": 25,
     "metadata": {},
     "output_type": "execute_result"
    }
   ],
   "source": [
    "# смотрим на таблицу\n",
    "merged_table.head(10)"
   ]
  },
  {
   "cell_type": "markdown",
   "id": "96a2e8a4",
   "metadata": {},
   "source": [
    "Задание 4\n",
    "\n",
    "Напиши функцию, которая принимает на вход значение user_id и возвращает строку следующего вида: все буквы в той последовательности, в которой они встречаются в user_id, затем квадрат числа, полученного из всех цифр в user_id в той последовательности, в которой они встречаются в user_id."
   ]
  },
  {
   "cell_type": "code",
   "execution_count": 26,
   "id": "f04da6b1",
   "metadata": {},
   "outputs": [],
   "source": [
    "# пишем функцию\n",
    "def process_user_id(s):\n",
    "    chars = ''.join([char for char in s if char.isalpha()]) # проверка на \n",
    "    digits = ''.join([char for char in s if char.isdigit()]) #\n",
    "    if digits:\n",
    "        squared =int(digits)**2\n",
    "    else:\n",
    "        squared = 0\n",
    "    result = chars+str(squared)\n",
    "    return result"
   ]
  },
  {
   "cell_type": "code",
   "execution_count": 27,
   "id": "a6ff78ac",
   "metadata": {},
   "outputs": [
    {
     "name": "stdout",
     "output_type": "stream",
     "text": [
      "wrtfwimbnbtjt3364\n"
     ]
    }
   ],
   "source": [
    "# проверим работу функции на оном примере\n",
    "user_id = \"wrtfwi5mbnbt8jt\"\n",
    "result = process_user_id(user_id)\n",
    "print(result)"
   ]
  },
  {
   "cell_type": "code",
   "execution_count": 28,
   "id": "3d89a50f",
   "metadata": {},
   "outputs": [],
   "source": [
    "# добавим в столбец результат работы функции на столбце user_id\n",
    "merged_table['processed'] = merged_table['user_id'].apply(process_user_id)"
   ]
  },
  {
   "cell_type": "code",
   "execution_count": 29,
   "id": "32160603",
   "metadata": {},
   "outputs": [
    {
     "data": {
      "text/html": [
       "<div>\n",
       "<style scoped>\n",
       "    .dataframe tbody tr th:only-of-type {\n",
       "        vertical-align: middle;\n",
       "    }\n",
       "\n",
       "    .dataframe tbody tr th {\n",
       "        vertical-align: top;\n",
       "    }\n",
       "\n",
       "    .dataframe thead th {\n",
       "        text-align: right;\n",
       "    }\n",
       "</style>\n",
       "<table border=\"1\" class=\"dataframe\">\n",
       "  <thead>\n",
       "    <tr style=\"text-align: right;\">\n",
       "      <th></th>\n",
       "      <th>user_id</th>\n",
       "      <th>order_number</th>\n",
       "      <th>click2delivery</th>\n",
       "      <th>order_item_sum</th>\n",
       "      <th>retention</th>\n",
       "      <th>click2delivery_mean</th>\n",
       "      <th>seq_col</th>\n",
       "      <th>processed</th>\n",
       "    </tr>\n",
       "  </thead>\n",
       "  <tbody>\n",
       "    <tr>\n",
       "      <th>0</th>\n",
       "      <td>ztqwe9m3hkd9vd6</td>\n",
       "      <td>8</td>\n",
       "      <td>1770.942567</td>\n",
       "      <td>1.546577</td>\n",
       "      <td>1</td>\n",
       "      <td>1439.539851</td>\n",
       "      <td>0.0000</td>\n",
       "      <td>ztqwemhkdvd88284816</td>\n",
       "    </tr>\n",
       "    <tr>\n",
       "      <th>1</th>\n",
       "      <td>kbxlyttkwaurirt</td>\n",
       "      <td>6</td>\n",
       "      <td>1408.329852</td>\n",
       "      <td>1.691839</td>\n",
       "      <td>1</td>\n",
       "      <td>1437.561474</td>\n",
       "      <td>1.0000</td>\n",
       "      <td>kbxlyttkwaurirt0</td>\n",
       "    </tr>\n",
       "    <tr>\n",
       "      <th>2</th>\n",
       "      <td>fzjqopiojnrglh9</td>\n",
       "      <td>10</td>\n",
       "      <td>1363.837193</td>\n",
       "      <td>3.683808</td>\n",
       "      <td>3</td>\n",
       "      <td>1435.907529</td>\n",
       "      <td>0.5000</td>\n",
       "      <td>fzjqopiojnrglh81</td>\n",
       "    </tr>\n",
       "    <tr>\n",
       "      <th>3</th>\n",
       "      <td>lq7oeig9z3du45f</td>\n",
       "      <td>9</td>\n",
       "      <td>1386.917781</td>\n",
       "      <td>1.392896</td>\n",
       "      <td>1</td>\n",
       "      <td>1436.446528</td>\n",
       "      <td>0.7500</td>\n",
       "      <td>lqoeigzduf6295629025</td>\n",
       "    </tr>\n",
       "    <tr>\n",
       "      <th>4</th>\n",
       "      <td>onhhi2hp21jhiv6</td>\n",
       "      <td>10</td>\n",
       "      <td>1542.571772</td>\n",
       "      <td>2.625719</td>\n",
       "      <td>3</td>\n",
       "      <td>1435.907529</td>\n",
       "      <td>0.6250</td>\n",
       "      <td>onhhihpjhiv4910656</td>\n",
       "    </tr>\n",
       "    <tr>\n",
       "      <th>5</th>\n",
       "      <td>upw0aappz4qfe3z</td>\n",
       "      <td>4</td>\n",
       "      <td>1674.681150</td>\n",
       "      <td>2.098172</td>\n",
       "      <td>1</td>\n",
       "      <td>1437.928385</td>\n",
       "      <td>0.6875</td>\n",
       "      <td>upwaappzqfez1849</td>\n",
       "    </tr>\n",
       "    <tr>\n",
       "      <th>6</th>\n",
       "      <td>et0owpzm1f0btvl</td>\n",
       "      <td>7</td>\n",
       "      <td>919.537930</td>\n",
       "      <td>1.353398</td>\n",
       "      <td>1</td>\n",
       "      <td>1446.275508</td>\n",
       "      <td>0.6562</td>\n",
       "      <td>etowpzmfbtvl100</td>\n",
       "    </tr>\n",
       "    <tr>\n",
       "      <th>7</th>\n",
       "      <td>m47qqiuntwhyy96</td>\n",
       "      <td>5</td>\n",
       "      <td>1392.277822</td>\n",
       "      <td>1.020311</td>\n",
       "      <td>2</td>\n",
       "      <td>1439.544284</td>\n",
       "      <td>0.6719</td>\n",
       "      <td>mqqiuntwhyy23001616</td>\n",
       "    </tr>\n",
       "    <tr>\n",
       "      <th>8</th>\n",
       "      <td>mzealhu1mvtvjx2</td>\n",
       "      <td>6</td>\n",
       "      <td>1256.660431</td>\n",
       "      <td>4.520109</td>\n",
       "      <td>3</td>\n",
       "      <td>1437.561474</td>\n",
       "      <td>0.6641</td>\n",
       "      <td>mzealhumvtvjx144</td>\n",
       "    </tr>\n",
       "    <tr>\n",
       "      <th>9</th>\n",
       "      <td>lvskqof9qj855n9</td>\n",
       "      <td>1</td>\n",
       "      <td>1102.750278</td>\n",
       "      <td>1.132905</td>\n",
       "      <td>1</td>\n",
       "      <td>1437.435131</td>\n",
       "      <td>0.6680</td>\n",
       "      <td>lvskqofqjn9713876481</td>\n",
       "    </tr>\n",
       "  </tbody>\n",
       "</table>\n",
       "</div>"
      ],
      "text/plain": [
       "            user_id  order_number  click2delivery  order_item_sum  retention  \\\n",
       "0   ztqwe9m3hkd9vd6             8     1770.942567        1.546577          1   \n",
       "1   kbxlyttkwaurirt             6     1408.329852        1.691839          1   \n",
       "2   fzjqopiojnrglh9            10     1363.837193        3.683808          3   \n",
       "3   lq7oeig9z3du45f             9     1386.917781        1.392896          1   \n",
       "4   onhhi2hp21jhiv6            10     1542.571772        2.625719          3   \n",
       "5   upw0aappz4qfe3z             4     1674.681150        2.098172          1   \n",
       "6   et0owpzm1f0btvl             7      919.537930        1.353398          1   \n",
       "7   m47qqiuntwhyy96             5     1392.277822        1.020311          2   \n",
       "8   mzealhu1mvtvjx2             6     1256.660431        4.520109          3   \n",
       "9   lvskqof9qj855n9             1     1102.750278        1.132905          1   \n",
       "\n",
       "   click2delivery_mean  seq_col             processed  \n",
       "0          1439.539851   0.0000   ztqwemhkdvd88284816  \n",
       "1          1437.561474   1.0000      kbxlyttkwaurirt0  \n",
       "2          1435.907529   0.5000      fzjqopiojnrglh81  \n",
       "3          1436.446528   0.7500  lqoeigzduf6295629025  \n",
       "4          1435.907529   0.6250    onhhihpjhiv4910656  \n",
       "5          1437.928385   0.6875      upwaappzqfez1849  \n",
       "6          1446.275508   0.6562       etowpzmfbtvl100  \n",
       "7          1439.544284   0.6719   mqqiuntwhyy23001616  \n",
       "8          1437.561474   0.6641      mzealhumvtvjx144  \n",
       "9          1437.435131   0.6680  lvskqofqjn9713876481  "
      ]
     },
     "execution_count": 29,
     "metadata": {},
     "output_type": "execute_result"
    }
   ],
   "source": [
    "# смотрим на таблицу\n",
    "merged_table.head(10)"
   ]
  },
  {
   "cell_type": "markdown",
   "id": "bedb1fdc",
   "metadata": {},
   "source": [
    "Задание 5\n",
    "\n",
    "Вычисли моду, медиану, среднее, дисперсию и стандартное отклонение для столбцов click2delivery, order_items_sum и retention. "
   ]
  },
  {
   "cell_type": "code",
   "execution_count": 30,
   "id": "84ebc7bd",
   "metadata": {},
   "outputs": [
    {
     "data": {
      "text/html": [
       "<div>\n",
       "<style scoped>\n",
       "    .dataframe tbody tr th:only-of-type {\n",
       "        vertical-align: middle;\n",
       "    }\n",
       "\n",
       "    .dataframe tbody tr th {\n",
       "        vertical-align: top;\n",
       "    }\n",
       "\n",
       "    .dataframe thead th {\n",
       "        text-align: right;\n",
       "    }\n",
       "</style>\n",
       "<table border=\"1\" class=\"dataframe\">\n",
       "  <thead>\n",
       "    <tr style=\"text-align: right;\">\n",
       "      <th></th>\n",
       "      <th>click2delivery</th>\n",
       "      <th>order_item_sum</th>\n",
       "      <th>retention</th>\n",
       "    </tr>\n",
       "  </thead>\n",
       "  <tbody>\n",
       "    <tr>\n",
       "      <th>0</th>\n",
       "      <td>1770.942567</td>\n",
       "      <td>1.546577</td>\n",
       "      <td>1</td>\n",
       "    </tr>\n",
       "    <tr>\n",
       "      <th>1</th>\n",
       "      <td>1408.329852</td>\n",
       "      <td>1.691839</td>\n",
       "      <td>1</td>\n",
       "    </tr>\n",
       "    <tr>\n",
       "      <th>2</th>\n",
       "      <td>1363.837193</td>\n",
       "      <td>3.683808</td>\n",
       "      <td>3</td>\n",
       "    </tr>\n",
       "    <tr>\n",
       "      <th>3</th>\n",
       "      <td>1386.917781</td>\n",
       "      <td>1.392896</td>\n",
       "      <td>1</td>\n",
       "    </tr>\n",
       "    <tr>\n",
       "      <th>4</th>\n",
       "      <td>1542.571772</td>\n",
       "      <td>2.625719</td>\n",
       "      <td>3</td>\n",
       "    </tr>\n",
       "  </tbody>\n",
       "</table>\n",
       "</div>"
      ],
      "text/plain": [
       "   click2delivery  order_item_sum  retention\n",
       "0     1770.942567        1.546577          1\n",
       "1     1408.329852        1.691839          1\n",
       "2     1363.837193        3.683808          3\n",
       "3     1386.917781        1.392896          1\n",
       "4     1542.571772        2.625719          3"
      ]
     },
     "execution_count": 30,
     "metadata": {},
     "output_type": "execute_result"
    }
   ],
   "source": [
    "# отберем в отдельный датасэт столбцы для работы\n",
    "trimmed_df = merged_table[['click2delivery', 'order_item_sum', 'retention']]\n",
    "trimmed_df.head()"
   ]
  },
  {
   "cell_type": "code",
   "execution_count": 31,
   "id": "c6f4d41c",
   "metadata": {},
   "outputs": [
    {
     "data": {
      "text/html": [
       "<div>\n",
       "<style scoped>\n",
       "    .dataframe tbody tr th:only-of-type {\n",
       "        vertical-align: middle;\n",
       "    }\n",
       "\n",
       "    .dataframe tbody tr th {\n",
       "        vertical-align: top;\n",
       "    }\n",
       "\n",
       "    .dataframe thead th {\n",
       "        text-align: right;\n",
       "    }\n",
       "</style>\n",
       "<table border=\"1\" class=\"dataframe\">\n",
       "  <thead>\n",
       "    <tr style=\"text-align: right;\">\n",
       "      <th></th>\n",
       "      <th>click2delivery</th>\n",
       "      <th>order_item_sum</th>\n",
       "      <th>retention</th>\n",
       "    </tr>\n",
       "  </thead>\n",
       "  <tbody>\n",
       "    <tr>\n",
       "      <th>count</th>\n",
       "      <td>10000.000000</td>\n",
       "      <td>10000.000000</td>\n",
       "      <td>10000.000000</td>\n",
       "    </tr>\n",
       "    <tr>\n",
       "      <th>mean</th>\n",
       "      <td>1439.221651</td>\n",
       "      <td>1.987022</td>\n",
       "      <td>2.309700</td>\n",
       "    </tr>\n",
       "    <tr>\n",
       "      <th>std</th>\n",
       "      <td>201.843356</td>\n",
       "      <td>0.996654</td>\n",
       "      <td>1.236745</td>\n",
       "    </tr>\n",
       "    <tr>\n",
       "      <th>min</th>\n",
       "      <td>782.694894</td>\n",
       "      <td>1.000295</td>\n",
       "      <td>1.000000</td>\n",
       "    </tr>\n",
       "    <tr>\n",
       "      <th>25%</th>\n",
       "      <td>1302.272088</td>\n",
       "      <td>1.282270</td>\n",
       "      <td>1.000000</td>\n",
       "    </tr>\n",
       "    <tr>\n",
       "      <th>50%</th>\n",
       "      <td>1438.394412</td>\n",
       "      <td>1.672363</td>\n",
       "      <td>2.000000</td>\n",
       "    </tr>\n",
       "    <tr>\n",
       "      <th>75%</th>\n",
       "      <td>1575.394558</td>\n",
       "      <td>2.363237</td>\n",
       "      <td>3.000000</td>\n",
       "    </tr>\n",
       "    <tr>\n",
       "      <th>max</th>\n",
       "      <td>2168.170270</td>\n",
       "      <td>12.801062</td>\n",
       "      <td>5.000000</td>\n",
       "    </tr>\n",
       "  </tbody>\n",
       "</table>\n",
       "</div>"
      ],
      "text/plain": [
       "       click2delivery  order_item_sum     retention\n",
       "count    10000.000000    10000.000000  10000.000000\n",
       "mean      1439.221651        1.987022      2.309700\n",
       "std        201.843356        0.996654      1.236745\n",
       "min        782.694894        1.000295      1.000000\n",
       "25%       1302.272088        1.282270      1.000000\n",
       "50%       1438.394412        1.672363      2.000000\n",
       "75%       1575.394558        2.363237      3.000000\n",
       "max       2168.170270       12.801062      5.000000"
      ]
     },
     "execution_count": 31,
     "metadata": {},
     "output_type": "execute_result"
    }
   ],
   "source": [
    "# используя describe посмотрим на статистики\n",
    "trimmed_df.describe()"
   ]
  },
  {
   "cell_type": "code",
   "execution_count": 32,
   "id": "e1d36828",
   "metadata": {},
   "outputs": [],
   "source": [
    "# напишем функцию для подсчета конкретных метрик\n",
    "def compute_stats(df):\n",
    "    stats = {} # создаем пустой словарь\n",
    "    for col in df.columns: # обращаемся к каждой колонке\n",
    "        stats[col] = {\n",
    "        'mode': df[col].mode().iloc[0], # при подсчете медианы бывает два значения и нам нужно первое\n",
    "        'median': df[col].median(),\n",
    "        'mean': df[col].mean(),\n",
    "        'variance': df[col].var(), \n",
    "        'sd': df[col].std()\n",
    "        }\n",
    "    stats_df = pd.DataFrame(stats) # из словаря делаем таблицу\n",
    "    return stats_df # возвращаем таблицу\n",
    "        "
   ]
  },
  {
   "cell_type": "code",
   "execution_count": 33,
   "id": "fff7b77f",
   "metadata": {},
   "outputs": [],
   "source": [
    "# применим функцию к нашему датасэту\n",
    "my_stats = compute_stats(trimmed_df)"
   ]
  },
  {
   "cell_type": "code",
   "execution_count": 34,
   "id": "29cfd001",
   "metadata": {},
   "outputs": [
    {
     "data": {
      "text/html": [
       "<div>\n",
       "<style scoped>\n",
       "    .dataframe tbody tr th:only-of-type {\n",
       "        vertical-align: middle;\n",
       "    }\n",
       "\n",
       "    .dataframe tbody tr th {\n",
       "        vertical-align: top;\n",
       "    }\n",
       "\n",
       "    .dataframe thead th {\n",
       "        text-align: right;\n",
       "    }\n",
       "</style>\n",
       "<table border=\"1\" class=\"dataframe\">\n",
       "  <thead>\n",
       "    <tr style=\"text-align: right;\">\n",
       "      <th></th>\n",
       "      <th>click2delivery</th>\n",
       "      <th>order_item_sum</th>\n",
       "      <th>retention</th>\n",
       "    </tr>\n",
       "  </thead>\n",
       "  <tbody>\n",
       "    <tr>\n",
       "      <th>mode</th>\n",
       "      <td>782.694894</td>\n",
       "      <td>1.000295</td>\n",
       "      <td>1.000000</td>\n",
       "    </tr>\n",
       "    <tr>\n",
       "      <th>median</th>\n",
       "      <td>1438.394412</td>\n",
       "      <td>1.672363</td>\n",
       "      <td>2.000000</td>\n",
       "    </tr>\n",
       "    <tr>\n",
       "      <th>mean</th>\n",
       "      <td>1439.221651</td>\n",
       "      <td>1.987022</td>\n",
       "      <td>2.309700</td>\n",
       "    </tr>\n",
       "    <tr>\n",
       "      <th>variance</th>\n",
       "      <td>40740.740276</td>\n",
       "      <td>0.993320</td>\n",
       "      <td>1.529539</td>\n",
       "    </tr>\n",
       "    <tr>\n",
       "      <th>sd</th>\n",
       "      <td>201.843356</td>\n",
       "      <td>0.996654</td>\n",
       "      <td>1.236745</td>\n",
       "    </tr>\n",
       "  </tbody>\n",
       "</table>\n",
       "</div>"
      ],
      "text/plain": [
       "          click2delivery  order_item_sum  retention\n",
       "mode          782.694894        1.000295   1.000000\n",
       "median       1438.394412        1.672363   2.000000\n",
       "mean         1439.221651        1.987022   2.309700\n",
       "variance    40740.740276        0.993320   1.529539\n",
       "sd            201.843356        0.996654   1.236745"
      ]
     },
     "execution_count": 34,
     "metadata": {},
     "output_type": "execute_result"
    }
   ],
   "source": [
    "# посмотрим\n",
    "my_stats"
   ]
  },
  {
   "cell_type": "markdown",
   "id": "c67732a9",
   "metadata": {},
   "source": [
    "Задание 6 \n",
    "\n",
    "Построй гистограммы распределения значений в столбцах\n"
   ]
  },
  {
   "cell_type": "code",
   "execution_count": 41,
   "id": "8869cf3c",
   "metadata": {},
   "outputs": [
    {
     "data": {
      "image/png": "[encoded data removed]",
      "text/plain": [
       "<Figure size 1800x600 with 3 Axes>"
      ]
     },
     "metadata": {},
     "output_type": "display_data"
    }
   ],
   "source": [
    "columns = ['click2delivery', 'order_item_sum', 'retention']\n",
    "fig, axes = plt.subplots(nrows=1, ncols=3, figsize=(18, 6))\n",
    "\n",
    "for ax, column in zip(axes, columns):\n",
    "    sns.histplot(df[column], bins=30, kde=False, ax=ax, color='orange', edgecolor='black')\n",
    "    ax.set_title(f'Гистограмма распределения значений в столбце {column}')\n",
    "    ax.set_xlabel(column)\n",
    "    ax.set_ylabel('Частота')\n",
    "    ax.grid(True)\n",
    "\n",
    "plt.tight_layout()\n",
    "plt.show()"
   ]
  },
  {
   "cell_type": "markdown",
   "id": "6f44f4f8",
   "metadata": {},
   "source": [
    "Задание 7\n",
    "\n",
    "Построй график, который наиболее полно, на твой взгляд, описывает зависимость времени доставки заказа от его номера. Обоснуй, почему ты так считаешь?"
   ]
  },
  {
   "cell_type": "code",
   "execution_count": 45,
   "id": "647f5213",
   "metadata": {},
   "outputs": [
    {
     "data": {
      "image/png": "[encoded data removed]",
      "text/plain": [
       "<Figure size 800x600 with 1 Axes>"
      ]
     },
     "metadata": {},
     "output_type": "display_data"
    }
   ],
   "source": [
    "plt.figure(figsize = (8,6))\n",
    "sns.boxplot(data = df, x = 'order_number', y = 'click2delivery')\n",
    "plt.show()"
   ]
  },
  {
   "cell_type": "markdown",
   "id": "f3a02f4e",
   "metadata": {},
   "source": [
    "Если бы данные не были сгенерированны, разницу в среднем и выбросы лучше было бы видно на боксплоте. Boxplot (ящик с усами) отлично подходит для визуализации распределения данных, включая медиану, квартили и выбросы. Он помогает понять распределение данных и выявить аномалии."
   ]
  },
  {
   "cell_type": "markdown",
   "id": "91699af1",
   "metadata": {},
   "source": [
    "🗿🗿🗿🗿🗿🗿🗿🗿🗿🗿🗿🗿🗿🗿🗿🗿🗿🗿🗿🗿🗿🗿🗿🗿🗿🗿🗿🗿🗿🗿🗿🗿🗿🗿🗿🗿🗿🗿🗿🗿🗿🗿🗿🗿🗿🗿🗿🗿🗿🗿🗿🗿🗿🗿🗿🗿🗿🗿🗿🗿🗿🗿🗿🗿🗿"
   ]
  }
 ],
 "metadata": {
  "kernelspec": {
   "display_name": "Python 3 (ipykernel)",
   "language": "python",
   "name": "python3"
  },
  "language_info": {
   "codemirror_mode": {
    "name": "ipython",
    "version": 3
   },
   "file_extension": ".py",
   "mimetype": "text/x-python",
   "name": "python",
   "nbconvert_exporter": "python",
   "pygments_lexer": "ipython3",
   "version": "3.10.9"
  }
 },
 "nbformat": 4,
 "nbformat_minor": 5
}
